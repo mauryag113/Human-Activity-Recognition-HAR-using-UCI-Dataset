Human Activity Recognition (HAR) using UCI Dataset.ipynb
